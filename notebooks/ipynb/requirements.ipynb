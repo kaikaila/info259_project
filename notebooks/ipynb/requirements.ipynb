{
 "cells": [
  {
   "cell_type": "code",
   "execution_count": 10,
   "id": "260aa3ee-ca72-4699-bc35-7de21bb2934c",
   "metadata": {},
   "outputs": [
    {
     "name": "stdout",
     "output_type": "stream",
     "text": [
      "Requirement already satisfied: nbconvert in /Users/yunkaili/.pyenv/versions/3.10.12/lib/python3.10/site-packages (7.16.6)\n",
      "Requirement already satisfied: bleach[css]!=5.0.0 in /Users/yunkaili/.pyenv/versions/3.10.12/lib/python3.10/site-packages (from nbconvert) (6.2.0)\n",
      "Requirement already satisfied: jupyterlab-pygments in /Users/yunkaili/.pyenv/versions/3.10.12/lib/python3.10/site-packages (from nbconvert) (0.3.0)\n",
      "Requirement already satisfied: beautifulsoup4 in /Users/yunkaili/.pyenv/versions/3.10.12/lib/python3.10/site-packages (from nbconvert) (4.13.3)\n",
      "Requirement already satisfied: jinja2>=3.0 in /Users/yunkaili/.pyenv/versions/3.10.12/lib/python3.10/site-packages (from nbconvert) (3.1.5)\n",
      "Requirement already satisfied: nbclient>=0.5.0 in /Users/yunkaili/.pyenv/versions/3.10.12/lib/python3.10/site-packages (from nbconvert) (0.10.2)\n",
      "Requirement already satisfied: defusedxml in /Users/yunkaili/.pyenv/versions/3.10.12/lib/python3.10/site-packages (from nbconvert) (0.7.1)\n",
      "Requirement already satisfied: traitlets>=5.1 in /Users/yunkaili/.pyenv/versions/3.10.12/lib/python3.10/site-packages (from nbconvert) (5.14.3)\n",
      "Requirement already satisfied: pandocfilters>=1.4.1 in /Users/yunkaili/.pyenv/versions/3.10.12/lib/python3.10/site-packages (from nbconvert) (1.5.1)\n",
      "Requirement already satisfied: packaging in /Users/yunkaili/.pyenv/versions/3.10.12/lib/python3.10/site-packages (from nbconvert) (24.2)\n",
      "Requirement already satisfied: mistune<4,>=2.0.3 in /Users/yunkaili/.pyenv/versions/3.10.12/lib/python3.10/site-packages (from nbconvert) (3.1.2)\n",
      "Requirement already satisfied: jupyter-core>=4.7 in /Users/yunkaili/.pyenv/versions/3.10.12/lib/python3.10/site-packages (from nbconvert) (5.7.2)\n",
      "Requirement already satisfied: pygments>=2.4.1 in /Users/yunkaili/.pyenv/versions/3.10.12/lib/python3.10/site-packages (from nbconvert) (2.19.1)\n",
      "Requirement already satisfied: markupsafe>=2.0 in /Users/yunkaili/.pyenv/versions/3.10.12/lib/python3.10/site-packages (from nbconvert) (3.0.2)\n",
      "Requirement already satisfied: nbformat>=5.7 in /Users/yunkaili/.pyenv/versions/3.10.12/lib/python3.10/site-packages (from nbconvert) (5.10.4)\n",
      "Requirement already satisfied: webencodings in /Users/yunkaili/.pyenv/versions/3.10.12/lib/python3.10/site-packages (from bleach[css]!=5.0.0->nbconvert) (0.5.1)\n",
      "Requirement already satisfied: tinycss2<1.5,>=1.1.0 in /Users/yunkaili/.pyenv/versions/3.10.12/lib/python3.10/site-packages (from bleach[css]!=5.0.0->nbconvert) (1.4.0)\n",
      "Requirement already satisfied: platformdirs>=2.5 in /Users/yunkaili/.pyenv/versions/3.10.12/lib/python3.10/site-packages (from jupyter-core>=4.7->nbconvert) (4.3.6)\n",
      "Requirement already satisfied: typing-extensions in /Users/yunkaili/.pyenv/versions/3.10.12/lib/python3.10/site-packages (from mistune<4,>=2.0.3->nbconvert) (4.12.2)\n",
      "Requirement already satisfied: jupyter-client>=6.1.12 in /Users/yunkaili/.pyenv/versions/3.10.12/lib/python3.10/site-packages (from nbclient>=0.5.0->nbconvert) (8.6.3)\n",
      "Requirement already satisfied: fastjsonschema>=2.15 in /Users/yunkaili/.pyenv/versions/3.10.12/lib/python3.10/site-packages (from nbformat>=5.7->nbconvert) (2.21.1)\n",
      "Requirement already satisfied: jsonschema>=2.6 in /Users/yunkaili/.pyenv/versions/3.10.12/lib/python3.10/site-packages (from nbformat>=5.7->nbconvert) (4.23.0)\n",
      "Requirement already satisfied: soupsieve>1.2 in /Users/yunkaili/.pyenv/versions/3.10.12/lib/python3.10/site-packages (from beautifulsoup4->nbconvert) (2.6)\n",
      "Requirement already satisfied: jsonschema-specifications>=2023.03.6 in /Users/yunkaili/.pyenv/versions/3.10.12/lib/python3.10/site-packages (from jsonschema>=2.6->nbformat>=5.7->nbconvert) (2024.10.1)\n",
      "Requirement already satisfied: referencing>=0.28.4 in /Users/yunkaili/.pyenv/versions/3.10.12/lib/python3.10/site-packages (from jsonschema>=2.6->nbformat>=5.7->nbconvert) (0.36.2)\n",
      "Requirement already satisfied: rpds-py>=0.7.1 in /Users/yunkaili/.pyenv/versions/3.10.12/lib/python3.10/site-packages (from jsonschema>=2.6->nbformat>=5.7->nbconvert) (0.23.1)\n",
      "Requirement already satisfied: attrs>=22.2.0 in /Users/yunkaili/.pyenv/versions/3.10.12/lib/python3.10/site-packages (from jsonschema>=2.6->nbformat>=5.7->nbconvert) (25.2.0)\n",
      "Requirement already satisfied: python-dateutil>=2.8.2 in /Users/yunkaili/.pyenv/versions/3.10.12/lib/python3.10/site-packages (from jupyter-client>=6.1.12->nbclient>=0.5.0->nbconvert) (2.9.0.post0)\n",
      "Requirement already satisfied: tornado>=6.2 in /Users/yunkaili/.pyenv/versions/3.10.12/lib/python3.10/site-packages (from jupyter-client>=6.1.12->nbclient>=0.5.0->nbconvert) (6.4.2)\n",
      "Requirement already satisfied: pyzmq>=23.0 in /Users/yunkaili/.pyenv/versions/3.10.12/lib/python3.10/site-packages (from jupyter-client>=6.1.12->nbclient>=0.5.0->nbconvert) (26.3.0)\n",
      "Requirement already satisfied: six>=1.5 in /Users/yunkaili/.pyenv/versions/3.10.12/lib/python3.10/site-packages (from python-dateutil>=2.8.2->jupyter-client>=6.1.12->nbclient>=0.5.0->nbconvert) (1.17.0)\n",
      "\n",
      "\u001b[1m[\u001b[0m\u001b[34;49mnotice\u001b[0m\u001b[1;39;49m]\u001b[0m\u001b[39;49m A new release of pip is available: \u001b[0m\u001b[31;49m23.0.1\u001b[0m\u001b[39;49m -> \u001b[0m\u001b[32;49m25.0.1\u001b[0m\n",
      "\u001b[1m[\u001b[0m\u001b[34;49mnotice\u001b[0m\u001b[1;39;49m]\u001b[0m\u001b[39;49m To update, run: \u001b[0m\u001b[32;49mpip install --upgrade pip\u001b[0m\n"
     ]
    }
   ],
   "source": [
    "!pip install nbconvert"
   ]
  },
  {
   "cell_type": "code",
   "execution_count": 13,
   "id": "54aa277f-2d78-4918-96cd-4733024296e9",
   "metadata": {},
   "outputs": [
    {
     "ename": "SyntaxError",
     "evalue": "invalid syntax (1764536566.py, line 1)",
     "output_type": "error",
     "traceback": [
      "\u001b[0;36m  Cell \u001b[0;32mIn[13], line 1\u001b[0;36m\u001b[0m\n\u001b[0;31m    jupyter nbconvert --to script notebooks/*.ipynb\u001b[0m\n\u001b[0m            ^\u001b[0m\n\u001b[0;31mSyntaxError\u001b[0m\u001b[0;31m:\u001b[0m invalid syntax\n"
     ]
    }
   ],
   "source": [
    "jupyter nbconvert --to script notebooks/*.ipynb"
   ]
  },
  {
   "cell_type": "code",
   "execution_count": null,
   "id": "0e8a2da7-f163-4038-a638-f9672163ab1e",
   "metadata": {},
   "outputs": [],
   "source": []
  },
  {
   "cell_type": "code",
   "execution_count": 1,
   "id": "58673b63-ae41-4d72-be39-d3b8c16f1223",
   "metadata": {},
   "outputs": [
    {
     "name": "stdout",
     "output_type": "stream",
     "text": [
      "Collecting pipreqs\n",
      "  Downloading pipreqs-0.5.0-py3-none-any.whl (33 kB)\n",
      "Collecting nbconvert<8.0.0,>=7.11.0\n",
      "  Downloading nbconvert-7.16.6-py3-none-any.whl (258 kB)\n",
      "\u001b[2K     \u001b[90m━━━━━━━━━━━━━━━━━━━━━━━━━━━━━━━━━━━━━━━\u001b[0m \u001b[32m258.5/258.5 kB\u001b[0m \u001b[31m8.0 MB/s\u001b[0m eta \u001b[36m0:00:00\u001b[0m\n",
      "\u001b[?25hCollecting yarg==0.1.9\n",
      "  Downloading yarg-0.1.9-py2.py3-none-any.whl (19 kB)\n",
      "Collecting docopt==0.6.2\n",
      "  Downloading docopt-0.6.2.tar.gz (25 kB)\n",
      "  Preparing metadata (setup.py) ... \u001b[?25ldone\n",
      "\u001b[?25hCollecting ipython==8.12.3\n",
      "  Downloading ipython-8.12.3-py3-none-any.whl (798 kB)\n",
      "\u001b[2K     \u001b[90m━━━━━━━━━━━━━━━━━━━━━━━━━━━━━━━━━━━━━━━\u001b[0m \u001b[32m798.3/798.3 kB\u001b[0m \u001b[31m6.8 MB/s\u001b[0m eta \u001b[36m0:00:00\u001b[0m00:01\u001b[0m00:01\u001b[0m\n",
      "\u001b[?25hCollecting backcall\n",
      "  Downloading backcall-0.2.0-py2.py3-none-any.whl (11 kB)\n",
      "Collecting pickleshare\n",
      "  Downloading pickleshare-0.7.5-py2.py3-none-any.whl (6.9 kB)\n",
      "Collecting stack-data\n",
      "  Downloading stack_data-0.6.3-py3-none-any.whl (24 kB)\n",
      "Collecting matplotlib-inline\n",
      "  Downloading matplotlib_inline-0.1.7-py3-none-any.whl (9.9 kB)\n",
      "Collecting jedi>=0.16\n",
      "  Downloading jedi-0.19.2-py2.py3-none-any.whl (1.6 MB)\n",
      "\u001b[2K     \u001b[90m━━━━━━━━━━━━━━━━━━━━━━━━━━━━━━━━━━━━━━━━\u001b[0m \u001b[32m1.6/1.6 MB\u001b[0m \u001b[31m7.9 MB/s\u001b[0m eta \u001b[36m0:00:00\u001b[0m00:01\u001b[0m00:01\u001b[0mm\n",
      "\u001b[?25hCollecting pygments>=2.4.0\n",
      "  Downloading pygments-2.19.1-py3-none-any.whl (1.2 MB)\n",
      "\u001b[2K     \u001b[90m━━━━━━━━━━━━━━━━━━━━━━━━━━━━━━━━━━━━━━━━\u001b[0m \u001b[32m1.2/1.2 MB\u001b[0m \u001b[31m5.8 MB/s\u001b[0m eta \u001b[36m0:00:00\u001b[0ma \u001b[36m0:00:01\u001b[0m\n",
      "\u001b[?25hCollecting decorator\n",
      "  Downloading decorator-5.2.1-py3-none-any.whl (9.2 kB)\n",
      "Collecting traitlets>=5\n",
      "  Downloading traitlets-5.14.3-py3-none-any.whl (85 kB)\n",
      "\u001b[2K     \u001b[90m━━━━━━━━━━━━━━━━━━━━━━━━━━━━━━━━━━━━━━━━\u001b[0m \u001b[32m85.4/85.4 kB\u001b[0m \u001b[31m4.7 MB/s\u001b[0m eta \u001b[36m0:00:00\u001b[0m\n",
      "\u001b[?25hCollecting prompt-toolkit!=3.0.37,<3.1.0,>=3.0.30\n",
      "  Downloading prompt_toolkit-3.0.50-py3-none-any.whl (387 kB)\n",
      "\u001b[2K     \u001b[90m━━━━━━━━━━━━━━━━━━━━━━━━━━━━━━━━━━━━━━━\u001b[0m \u001b[32m387.8/387.8 kB\u001b[0m \u001b[31m8.8 MB/s\u001b[0m eta \u001b[36m0:00:00\u001b[0m00:01\u001b[0m\n",
      "\u001b[?25hCollecting appnope\n",
      "  Downloading appnope-0.1.4-py2.py3-none-any.whl (4.3 kB)\n",
      "Collecting pexpect>4.3\n",
      "  Downloading pexpect-4.9.0-py2.py3-none-any.whl (63 kB)\n",
      "\u001b[2K     \u001b[90m━━━━━━━━━━━━━━━━━━━━━━━━━━━━━━━━━━━━━━━━\u001b[0m \u001b[32m63.8/63.8 kB\u001b[0m \u001b[31m4.5 MB/s\u001b[0m eta \u001b[36m0:00:00\u001b[0m\n",
      "\u001b[?25hRequirement already satisfied: requests in /Users/yunkaili/.pyenv/versions/3.10.12/lib/python3.10/site-packages (from yarg==0.1.9->pipreqs) (2.32.3)\n",
      "Requirement already satisfied: markupsafe>=2.0 in /Users/yunkaili/.pyenv/versions/3.10.12/lib/python3.10/site-packages (from nbconvert<8.0.0,>=7.11.0->pipreqs) (3.0.2)\n",
      "Collecting mistune<4,>=2.0.3\n",
      "  Downloading mistune-3.1.2-py3-none-any.whl (53 kB)\n",
      "\u001b[2K     \u001b[90m━━━━━━━━━━━━━━━━━━━━━━━━━━━━━━━━━━━━━━━━\u001b[0m \u001b[32m53.7/53.7 kB\u001b[0m \u001b[31m6.2 MB/s\u001b[0m eta \u001b[36m0:00:00\u001b[0m\n",
      "\u001b[?25hCollecting jupyter-core>=4.7\n",
      "  Downloading jupyter_core-5.7.2-py3-none-any.whl (28 kB)\n",
      "Collecting jupyterlab-pygments\n",
      "  Downloading jupyterlab_pygments-0.3.0-py3-none-any.whl (15 kB)\n",
      "Requirement already satisfied: jinja2>=3.0 in /Users/yunkaili/.pyenv/versions/3.10.12/lib/python3.10/site-packages (from nbconvert<8.0.0,>=7.11.0->pipreqs) (3.1.5)\n",
      "Collecting defusedxml\n",
      "  Downloading defusedxml-0.7.1-py2.py3-none-any.whl (25 kB)\n",
      "Collecting bleach[css]!=5.0.0\n",
      "  Downloading bleach-6.2.0-py3-none-any.whl (163 kB)\n",
      "\u001b[2K     \u001b[90m━━━━━━━━━━━━━━━━━━━━━━━━━━━━━━━━━━━━━━━\u001b[0m \u001b[32m163.4/163.4 kB\u001b[0m \u001b[31m5.8 MB/s\u001b[0m eta \u001b[36m0:00:00\u001b[0m\n",
      "\u001b[?25hCollecting nbclient>=0.5.0\n",
      "  Downloading nbclient-0.10.2-py3-none-any.whl (25 kB)\n",
      "Collecting pandocfilters>=1.4.1\n",
      "  Downloading pandocfilters-1.5.1-py2.py3-none-any.whl (8.7 kB)\n",
      "Collecting beautifulsoup4\n",
      "  Downloading beautifulsoup4-4.13.3-py3-none-any.whl (186 kB)\n",
      "\u001b[2K     \u001b[90m━━━━━━━━━━━━━━━━━━━━━━━━━━━━━━━━━━━━━━━\u001b[0m \u001b[32m186.0/186.0 kB\u001b[0m \u001b[31m4.1 MB/s\u001b[0m eta \u001b[36m0:00:00\u001b[0m00:01\u001b[0m\n",
      "\u001b[?25hRequirement already satisfied: packaging in /Users/yunkaili/.pyenv/versions/3.10.12/lib/python3.10/site-packages (from nbconvert<8.0.0,>=7.11.0->pipreqs) (24.2)\n",
      "Collecting nbformat>=5.7\n",
      "  Downloading nbformat-5.10.4-py3-none-any.whl (78 kB)\n",
      "\u001b[2K     \u001b[90m━━━━━━━━━━━━━━━━━━━━━━━━━━━━━━━━━━━━━━━━\u001b[0m \u001b[32m78.5/78.5 kB\u001b[0m \u001b[31m6.0 MB/s\u001b[0m eta \u001b[36m0:00:00\u001b[0m\n",
      "\u001b[?25hCollecting webencodings\n",
      "  Downloading webencodings-0.5.1-py2.py3-none-any.whl (11 kB)\n",
      "Collecting tinycss2<1.5,>=1.1.0\n",
      "  Downloading tinycss2-1.4.0-py3-none-any.whl (26 kB)\n",
      "Collecting parso<0.9.0,>=0.8.4\n",
      "  Downloading parso-0.8.4-py2.py3-none-any.whl (103 kB)\n",
      "\u001b[2K     \u001b[90m━━━━━━━━━━━━━━━━━━━━━━━━━━━━━━━━━━━━━━━\u001b[0m \u001b[32m103.7/103.7 kB\u001b[0m \u001b[31m5.7 MB/s\u001b[0m eta \u001b[36m0:00:00\u001b[0m\n",
      "\u001b[?25hCollecting platformdirs>=2.5\n",
      "  Downloading platformdirs-4.3.6-py3-none-any.whl (18 kB)\n",
      "Requirement already satisfied: typing-extensions in /Users/yunkaili/.pyenv/versions/3.10.12/lib/python3.10/site-packages (from mistune<4,>=2.0.3->nbconvert<8.0.0,>=7.11.0->pipreqs) (4.12.2)\n",
      "Collecting jupyter-client>=6.1.12\n",
      "  Downloading jupyter_client-8.6.3-py3-none-any.whl (106 kB)\n",
      "\u001b[2K     \u001b[90m━━━━━━━━━━━━━━━━━━━━━━━━━━━━━━━━━━━━━━━\u001b[0m \u001b[32m106.1/106.1 kB\u001b[0m \u001b[31m7.2 MB/s\u001b[0m eta \u001b[36m0:00:00\u001b[0m\n",
      "\u001b[?25hCollecting fastjsonschema>=2.15\n",
      "  Downloading fastjsonschema-2.21.1-py3-none-any.whl (23 kB)\n",
      "Collecting jsonschema>=2.6\n",
      "  Downloading jsonschema-4.23.0-py3-none-any.whl (88 kB)\n",
      "\u001b[2K     \u001b[90m━━━━━━━━━━━━━━━━━━━━━━━━━━━━━━━━━━━━━━━━\u001b[0m \u001b[32m88.5/88.5 kB\u001b[0m \u001b[31m7.9 MB/s\u001b[0m eta \u001b[36m0:00:00\u001b[0m\n",
      "\u001b[?25hCollecting ptyprocess>=0.5\n",
      "  Downloading ptyprocess-0.7.0-py2.py3-none-any.whl (13 kB)\n",
      "Collecting wcwidth\n",
      "  Downloading wcwidth-0.2.13-py2.py3-none-any.whl (34 kB)\n",
      "Collecting soupsieve>1.2\n",
      "  Downloading soupsieve-2.6-py3-none-any.whl (36 kB)\n",
      "Requirement already satisfied: charset-normalizer<4,>=2 in /Users/yunkaili/.pyenv/versions/3.10.12/lib/python3.10/site-packages (from requests->yarg==0.1.9->pipreqs) (3.4.1)\n",
      "Requirement already satisfied: certifi>=2017.4.17 in /Users/yunkaili/.pyenv/versions/3.10.12/lib/python3.10/site-packages (from requests->yarg==0.1.9->pipreqs) (2025.1.31)\n",
      "Requirement already satisfied: idna<4,>=2.5 in /Users/yunkaili/.pyenv/versions/3.10.12/lib/python3.10/site-packages (from requests->yarg==0.1.9->pipreqs) (3.10)\n",
      "Requirement already satisfied: urllib3<3,>=1.21.1 in /Users/yunkaili/.pyenv/versions/3.10.12/lib/python3.10/site-packages (from requests->yarg==0.1.9->pipreqs) (2.3.0)\n",
      "Collecting executing>=1.2.0\n",
      "  Downloading executing-2.2.0-py2.py3-none-any.whl (26 kB)\n",
      "Collecting pure-eval\n",
      "  Downloading pure_eval-0.2.3-py3-none-any.whl (11 kB)\n",
      "Collecting asttokens>=2.1.0\n",
      "  Downloading asttokens-3.0.0-py3-none-any.whl (26 kB)\n",
      "Collecting rpds-py>=0.7.1\n",
      "  Downloading rpds_py-0.23.1-cp310-cp310-macosx_11_0_arm64.whl (356 kB)\n",
      "\u001b[2K     \u001b[90m━━━━━━━━━━━━━━━━━━━━━━━━━━━━━━━━━━━━━━━\u001b[0m \u001b[32m356.8/356.8 kB\u001b[0m \u001b[31m7.6 MB/s\u001b[0m eta \u001b[36m0:00:00\u001b[0ma \u001b[36m0:00:01\u001b[0m\n",
      "\u001b[?25hCollecting jsonschema-specifications>=2023.03.6\n",
      "  Downloading jsonschema_specifications-2024.10.1-py3-none-any.whl (18 kB)\n",
      "Collecting attrs>=22.2.0\n",
      "  Downloading attrs-25.2.0-py3-none-any.whl (64 kB)\n",
      "\u001b[2K     \u001b[90m━━━━━━━━━━━━━━━━━━━━━━━━━━━━━━━━━━━━━━━━\u001b[0m \u001b[32m64.0/64.0 kB\u001b[0m \u001b[31m8.1 MB/s\u001b[0m eta \u001b[36m0:00:00\u001b[0m\n",
      "\u001b[?25hCollecting referencing>=0.28.4\n",
      "  Downloading referencing-0.36.2-py3-none-any.whl (26 kB)\n",
      "Collecting pyzmq>=23.0\n",
      "  Downloading pyzmq-26.3.0-cp310-cp310-macosx_10_15_universal2.whl (1.3 MB)\n",
      "\u001b[2K     \u001b[90m━━━━━━━━━━━━━━━━━━━━━━━━━━━━━━━━━━━━━━━━\u001b[0m \u001b[32m1.3/1.3 MB\u001b[0m \u001b[31m9.2 MB/s\u001b[0m eta \u001b[36m0:00:00\u001b[0mta \u001b[36m0:00:01\u001b[0m\n",
      "\u001b[?25hRequirement already satisfied: python-dateutil>=2.8.2 in /Users/yunkaili/.pyenv/versions/3.10.12/lib/python3.10/site-packages (from jupyter-client>=6.1.12->nbclient>=0.5.0->nbconvert<8.0.0,>=7.11.0->pipreqs) (2.9.0.post0)\n",
      "Collecting tornado>=6.2\n",
      "  Downloading tornado-6.4.2-cp38-abi3-macosx_10_9_universal2.whl (436 kB)\n",
      "\u001b[2K     \u001b[90m━━━━━━━━━━━━━━━━━━━━━━━━━━━━━━━━━━━━━━━\u001b[0m \u001b[32m436.3/436.3 kB\u001b[0m \u001b[31m7.6 MB/s\u001b[0m eta \u001b[36m0:00:00\u001b[0ma \u001b[36m0:00:01\u001b[0m\n",
      "\u001b[?25hRequirement already satisfied: six>=1.5 in /Users/yunkaili/.pyenv/versions/3.10.12/lib/python3.10/site-packages (from python-dateutil>=2.8.2->jupyter-client>=6.1.12->nbclient>=0.5.0->nbconvert<8.0.0,>=7.11.0->pipreqs) (1.17.0)\n",
      "Installing collected packages: webencodings, wcwidth, pure-eval, ptyprocess, pickleshare, fastjsonschema, docopt, backcall, traitlets, tornado, tinycss2, soupsieve, rpds-py, pyzmq, pygments, prompt-toolkit, platformdirs, pexpect, parso, pandocfilters, mistune, jupyterlab-pygments, executing, defusedxml, decorator, bleach, attrs, asttokens, appnope, yarg, stack-data, referencing, matplotlib-inline, jupyter-core, jedi, beautifulsoup4, jupyter-client, jsonschema-specifications, ipython, jsonschema, nbformat, nbclient, nbconvert, pipreqs\n",
      "\u001b[33m  DEPRECATION: docopt is being installed using the legacy 'setup.py install' method, because it does not have a 'pyproject.toml' and the 'wheel' package is not installed. pip 23.1 will enforce this behaviour change. A possible replacement is to enable the '--use-pep517' option. Discussion can be found at https://github.com/pypa/pip/issues/8559\u001b[0m\u001b[33m\n",
      "\u001b[0m  Running setup.py install for docopt ... \u001b[?25ldone\n",
      "\u001b[?25hSuccessfully installed appnope-0.1.4 asttokens-3.0.0 attrs-25.2.0 backcall-0.2.0 beautifulsoup4-4.13.3 bleach-6.2.0 decorator-5.2.1 defusedxml-0.7.1 docopt-0.6.2 executing-2.2.0 fastjsonschema-2.21.1 ipython-8.12.3 jedi-0.19.2 jsonschema-4.23.0 jsonschema-specifications-2024.10.1 jupyter-client-8.6.3 jupyter-core-5.7.2 jupyterlab-pygments-0.3.0 matplotlib-inline-0.1.7 mistune-3.1.2 nbclient-0.10.2 nbconvert-7.16.6 nbformat-5.10.4 pandocfilters-1.5.1 parso-0.8.4 pexpect-4.9.0 pickleshare-0.7.5 pipreqs-0.5.0 platformdirs-4.3.6 prompt-toolkit-3.0.50 ptyprocess-0.7.0 pure-eval-0.2.3 pygments-2.19.1 pyzmq-26.3.0 referencing-0.36.2 rpds-py-0.23.1 soupsieve-2.6 stack-data-0.6.3 tinycss2-1.4.0 tornado-6.4.2 traitlets-5.14.3 wcwidth-0.2.13 webencodings-0.5.1 yarg-0.1.9\n",
      "\n",
      "\u001b[1m[\u001b[0m\u001b[34;49mnotice\u001b[0m\u001b[1;39;49m]\u001b[0m\u001b[39;49m A new release of pip is available: \u001b[0m\u001b[31;49m23.0.1\u001b[0m\u001b[39;49m -> \u001b[0m\u001b[32;49m25.0.1\u001b[0m\n",
      "\u001b[1m[\u001b[0m\u001b[34;49mnotice\u001b[0m\u001b[1;39;49m]\u001b[0m\u001b[39;49m To update, run: \u001b[0m\u001b[32;49mpip install --upgrade pip\u001b[0m\n"
     ]
    }
   ],
   "source": [
    "!pip install pipreqs"
   ]
  },
  {
   "cell_type": "code",
   "execution_count": 9,
   "id": "7a699896-3989-40b8-964e-60538e82f878",
   "metadata": {
    "scrolled": true
   },
   "outputs": [
    {
     "name": "stdout",
     "output_type": "stream",
     "text": [
      "INFO: Not scanning for jupyter notebooks.\n",
      "Traceback (most recent call last):\n",
      "  File \"/Users/yunkaili/.pyenv/versions/3.10.12/bin/pipreqs\", line 8, in <module>\n",
      "    sys.exit(main())\n",
      "  File \"/Users/yunkaili/.pyenv/versions/3.10.12/lib/python3.10/site-packages/pipreqs/pipreqs.py\", line 609, in main\n",
      "    init(args)\n",
      "  File \"/Users/yunkaili/.pyenv/versions/3.10.12/lib/python3.10/site-packages/pipreqs/pipreqs.py\", line 599, in init\n",
      "    generate_requirements_file(path, imports, symbol)\n",
      "  File \"/Users/yunkaili/.pyenv/versions/3.10.12/lib/python3.10/site-packages/pipreqs/pipreqs.py\", line 209, in generate_requirements_file\n",
      "    with _open(path, \"w\") as out_file:\n",
      "  File \"/Users/yunkaili/.pyenv/versions/3.10.12/lib/python3.10/contextlib.py\", line 135, in __enter__\n",
      "    return next(self.gen)\n",
      "  File \"/Users/yunkaili/.pyenv/versions/3.10.12/lib/python3.10/site-packages/pipreqs/pipreqs.py\", line 91, in _open\n",
      "    file = open(filename, mode)\n",
      "FileNotFoundError: [Errno 2] No such file or directory: 'notebooks/requirements.txt'\n"
     ]
    }
   ],
   "source": [
    "!pipreqs notebooks/ --force"
   ]
  },
  {
   "cell_type": "code",
   "execution_count": 3,
   "id": "71a5af27-84ec-4e7c-9648-2b8ad8a678aa",
   "metadata": {},
   "outputs": [],
   "source": [
    "!pip freeze > all_packages.txt"
   ]
  },
  {
   "cell_type": "code",
   "execution_count": null,
   "id": "32c5d478-4b5d-4199-a745-0e8a8a1e0958",
   "metadata": {},
   "outputs": [],
   "source": []
  }
 ],
 "metadata": {
  "kernelspec": {
   "display_name": "Python (Twitter Notes)",
   "language": "python",
   "name": "twitter_notes_env"
  },
  "language_info": {
   "codemirror_mode": {
    "name": "ipython",
    "version": 3
   },
   "file_extension": ".py",
   "mimetype": "text/x-python",
   "name": "python",
   "nbconvert_exporter": "python",
   "pygments_lexer": "ipython3",
   "version": "3.10.12"
  }
 },
 "nbformat": 4,
 "nbformat_minor": 5
}
