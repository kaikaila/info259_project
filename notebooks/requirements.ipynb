{
 "cells": [
  {
   "cell_type": "code",
   "execution_count": 1,
   "id": "260aa3ee-ca72-4699-bc35-7de21bb2934c",
   "metadata": {},
   "outputs": [
    {
     "name": "stdout",
     "output_type": "stream",
     "text": [
      "Requirement already satisfied: nbconvert in /Users/yunkaili/.pyenv/versions/3.10.12/lib/python3.10/site-packages (7.16.6)\n",
      "Requirement already satisfied: jinja2>=3.0 in /Users/yunkaili/.pyenv/versions/3.10.12/lib/python3.10/site-packages (from nbconvert) (3.1.5)\n",
      "Requirement already satisfied: defusedxml in /Users/yunkaili/.pyenv/versions/3.10.12/lib/python3.10/site-packages (from nbconvert) (0.7.1)\n",
      "Requirement already satisfied: jupyterlab-pygments in /Users/yunkaili/.pyenv/versions/3.10.12/lib/python3.10/site-packages (from nbconvert) (0.3.0)\n",
      "Requirement already satisfied: nbformat>=5.7 in /Users/yunkaili/.pyenv/versions/3.10.12/lib/python3.10/site-packages (from nbconvert) (5.10.4)\n",
      "Requirement already satisfied: bleach[css]!=5.0.0 in /Users/yunkaili/.pyenv/versions/3.10.12/lib/python3.10/site-packages (from nbconvert) (6.2.0)\n",
      "Requirement already satisfied: traitlets>=5.1 in /Users/yunkaili/.pyenv/versions/3.10.12/lib/python3.10/site-packages (from nbconvert) (5.14.3)\n",
      "Requirement already satisfied: beautifulsoup4 in /Users/yunkaili/.pyenv/versions/3.10.12/lib/python3.10/site-packages (from nbconvert) (4.13.3)\n",
      "Requirement already satisfied: mistune<4,>=2.0.3 in /Users/yunkaili/.pyenv/versions/3.10.12/lib/python3.10/site-packages (from nbconvert) (3.1.2)\n",
      "Requirement already satisfied: nbclient>=0.5.0 in /Users/yunkaili/.pyenv/versions/3.10.12/lib/python3.10/site-packages (from nbconvert) (0.10.2)\n",
      "Requirement already satisfied: packaging in /Users/yunkaili/.pyenv/versions/3.10.12/lib/python3.10/site-packages (from nbconvert) (24.2)\n",
      "Requirement already satisfied: pandocfilters>=1.4.1 in /Users/yunkaili/.pyenv/versions/3.10.12/lib/python3.10/site-packages (from nbconvert) (1.5.1)\n",
      "Requirement already satisfied: markupsafe>=2.0 in /Users/yunkaili/.pyenv/versions/3.10.12/lib/python3.10/site-packages (from nbconvert) (3.0.2)\n",
      "Requirement already satisfied: jupyter-core>=4.7 in /Users/yunkaili/.pyenv/versions/3.10.12/lib/python3.10/site-packages (from nbconvert) (5.7.2)\n",
      "Requirement already satisfied: pygments>=2.4.1 in /Users/yunkaili/.pyenv/versions/3.10.12/lib/python3.10/site-packages (from nbconvert) (2.19.1)\n",
      "Requirement already satisfied: webencodings in /Users/yunkaili/.pyenv/versions/3.10.12/lib/python3.10/site-packages (from bleach[css]!=5.0.0->nbconvert) (0.5.1)\n",
      "Requirement already satisfied: tinycss2<1.5,>=1.1.0 in /Users/yunkaili/.pyenv/versions/3.10.12/lib/python3.10/site-packages (from bleach[css]!=5.0.0->nbconvert) (1.4.0)\n",
      "Requirement already satisfied: platformdirs>=2.5 in /Users/yunkaili/.pyenv/versions/3.10.12/lib/python3.10/site-packages (from jupyter-core>=4.7->nbconvert) (4.3.6)\n",
      "Requirement already satisfied: typing-extensions in /Users/yunkaili/.pyenv/versions/3.10.12/lib/python3.10/site-packages (from mistune<4,>=2.0.3->nbconvert) (4.12.2)\n",
      "Requirement already satisfied: jupyter-client>=6.1.12 in /Users/yunkaili/.pyenv/versions/3.10.12/lib/python3.10/site-packages (from nbclient>=0.5.0->nbconvert) (8.6.3)\n",
      "Requirement already satisfied: fastjsonschema>=2.15 in /Users/yunkaili/.pyenv/versions/3.10.12/lib/python3.10/site-packages (from nbformat>=5.7->nbconvert) (2.21.1)\n",
      "Requirement already satisfied: jsonschema>=2.6 in /Users/yunkaili/.pyenv/versions/3.10.12/lib/python3.10/site-packages (from nbformat>=5.7->nbconvert) (4.23.0)\n",
      "Requirement already satisfied: soupsieve>1.2 in /Users/yunkaili/.pyenv/versions/3.10.12/lib/python3.10/site-packages (from beautifulsoup4->nbconvert) (2.6)\n",
      "Requirement already satisfied: attrs>=22.2.0 in /Users/yunkaili/.pyenv/versions/3.10.12/lib/python3.10/site-packages (from jsonschema>=2.6->nbformat>=5.7->nbconvert) (25.2.0)\n",
      "Requirement already satisfied: rpds-py>=0.7.1 in /Users/yunkaili/.pyenv/versions/3.10.12/lib/python3.10/site-packages (from jsonschema>=2.6->nbformat>=5.7->nbconvert) (0.23.1)\n",
      "Requirement already satisfied: jsonschema-specifications>=2023.03.6 in /Users/yunkaili/.pyenv/versions/3.10.12/lib/python3.10/site-packages (from jsonschema>=2.6->nbformat>=5.7->nbconvert) (2024.10.1)\n",
      "Requirement already satisfied: referencing>=0.28.4 in /Users/yunkaili/.pyenv/versions/3.10.12/lib/python3.10/site-packages (from jsonschema>=2.6->nbformat>=5.7->nbconvert) (0.36.2)\n",
      "Requirement already satisfied: python-dateutil>=2.8.2 in /Users/yunkaili/.pyenv/versions/3.10.12/lib/python3.10/site-packages (from jupyter-client>=6.1.12->nbclient>=0.5.0->nbconvert) (2.9.0.post0)\n",
      "Requirement already satisfied: tornado>=6.2 in /Users/yunkaili/.pyenv/versions/3.10.12/lib/python3.10/site-packages (from jupyter-client>=6.1.12->nbclient>=0.5.0->nbconvert) (6.4.2)\n",
      "Requirement already satisfied: pyzmq>=23.0 in /Users/yunkaili/.pyenv/versions/3.10.12/lib/python3.10/site-packages (from jupyter-client>=6.1.12->nbclient>=0.5.0->nbconvert) (26.3.0)\n",
      "Requirement already satisfied: six>=1.5 in /Users/yunkaili/.pyenv/versions/3.10.12/lib/python3.10/site-packages (from python-dateutil>=2.8.2->jupyter-client>=6.1.12->nbclient>=0.5.0->nbconvert) (1.17.0)\n",
      "\n",
      "\u001b[1m[\u001b[0m\u001b[34;49mnotice\u001b[0m\u001b[1;39;49m]\u001b[0m\u001b[39;49m A new release of pip is available: \u001b[0m\u001b[31;49m23.0.1\u001b[0m\u001b[39;49m -> \u001b[0m\u001b[32;49m25.0.1\u001b[0m\n",
      "\u001b[1m[\u001b[0m\u001b[34;49mnotice\u001b[0m\u001b[1;39;49m]\u001b[0m\u001b[39;49m To update, run: \u001b[0m\u001b[32;49mpip install --upgrade pip\u001b[0m\n"
     ]
    }
   ],
   "source": [
    "!pip install nbconvert"
   ]
  },
  {
   "cell_type": "code",
   "execution_count": 12,
   "id": "54aa277f-2d78-4918-96cd-4733024296e9",
   "metadata": {
    "scrolled": true
   },
   "outputs": [
    {
     "ename": "SyntaxError",
     "evalue": "invalid syntax (1764536566.py, line 1)",
     "output_type": "error",
     "traceback": [
      "\u001b[0;36m  Cell \u001b[0;32mIn[12], line 1\u001b[0;36m\u001b[0m\n\u001b[0;31m    jupyter nbconvert --to script notebooks/*.ipynb\u001b[0m\n\u001b[0m            ^\u001b[0m\n\u001b[0;31mSyntaxError\u001b[0m\u001b[0;31m:\u001b[0m invalid syntax\n"
     ]
    }
   ],
   "source": [
    "jupyter nbconvert --to script notebooks/*.ipynb"
   ]
  },
  {
   "cell_type": "code",
   "execution_count": null,
   "id": "0e8a2da7-f163-4038-a638-f9672163ab1e",
   "metadata": {},
   "outputs": [],
   "source": []
  },
  {
   "cell_type": "code",
   "execution_count": 9,
   "id": "58673b63-ae41-4d72-be39-d3b8c16f1223",
   "metadata": {},
   "outputs": [
    {
     "name": "stdout",
     "output_type": "stream",
     "text": [
      "Requirement already satisfied: pipreqs in /Users/yunkaili/.pyenv/versions/3.10.12/lib/python3.10/site-packages (0.5.0)\n",
      "Requirement already satisfied: docopt==0.6.2 in /Users/yunkaili/.pyenv/versions/3.10.12/lib/python3.10/site-packages (from pipreqs) (0.6.2)\n",
      "Requirement already satisfied: nbconvert<8.0.0,>=7.11.0 in /Users/yunkaili/.pyenv/versions/3.10.12/lib/python3.10/site-packages (from pipreqs) (7.16.6)\n",
      "Requirement already satisfied: yarg==0.1.9 in /Users/yunkaili/.pyenv/versions/3.10.12/lib/python3.10/site-packages (from pipreqs) (0.1.9)\n",
      "Requirement already satisfied: ipython==8.12.3 in /Users/yunkaili/.pyenv/versions/3.10.12/lib/python3.10/site-packages (from pipreqs) (8.12.3)\n",
      "Requirement already satisfied: matplotlib-inline in /Users/yunkaili/.pyenv/versions/3.10.12/lib/python3.10/site-packages (from ipython==8.12.3->pipreqs) (0.1.7)\n",
      "Requirement already satisfied: stack-data in /Users/yunkaili/.pyenv/versions/3.10.12/lib/python3.10/site-packages (from ipython==8.12.3->pipreqs) (0.6.3)\n",
      "Requirement already satisfied: pickleshare in /Users/yunkaili/.pyenv/versions/3.10.12/lib/python3.10/site-packages (from ipython==8.12.3->pipreqs) (0.7.5)\n",
      "Requirement already satisfied: backcall in /Users/yunkaili/.pyenv/versions/3.10.12/lib/python3.10/site-packages (from ipython==8.12.3->pipreqs) (0.2.0)\n",
      "Requirement already satisfied: decorator in /Users/yunkaili/.pyenv/versions/3.10.12/lib/python3.10/site-packages (from ipython==8.12.3->pipreqs) (5.2.1)\n",
      "Requirement already satisfied: prompt-toolkit!=3.0.37,<3.1.0,>=3.0.30 in /Users/yunkaili/.pyenv/versions/3.10.12/lib/python3.10/site-packages (from ipython==8.12.3->pipreqs) (3.0.50)\n",
      "Requirement already satisfied: pexpect>4.3 in /Users/yunkaili/.pyenv/versions/3.10.12/lib/python3.10/site-packages (from ipython==8.12.3->pipreqs) (4.9.0)\n",
      "Requirement already satisfied: traitlets>=5 in /Users/yunkaili/.pyenv/versions/3.10.12/lib/python3.10/site-packages (from ipython==8.12.3->pipreqs) (5.14.3)\n",
      "Requirement already satisfied: jedi>=0.16 in /Users/yunkaili/.pyenv/versions/3.10.12/lib/python3.10/site-packages (from ipython==8.12.3->pipreqs) (0.19.2)\n",
      "Requirement already satisfied: pygments>=2.4.0 in /Users/yunkaili/.pyenv/versions/3.10.12/lib/python3.10/site-packages (from ipython==8.12.3->pipreqs) (2.19.1)\n",
      "Requirement already satisfied: appnope in /Users/yunkaili/.pyenv/versions/3.10.12/lib/python3.10/site-packages (from ipython==8.12.3->pipreqs) (0.1.4)\n",
      "Requirement already satisfied: requests in /Users/yunkaili/.pyenv/versions/3.10.12/lib/python3.10/site-packages (from yarg==0.1.9->pipreqs) (2.32.3)\n",
      "Requirement already satisfied: mistune<4,>=2.0.3 in /Users/yunkaili/.pyenv/versions/3.10.12/lib/python3.10/site-packages (from nbconvert<8.0.0,>=7.11.0->pipreqs) (3.1.2)\n",
      "Requirement already satisfied: defusedxml in /Users/yunkaili/.pyenv/versions/3.10.12/lib/python3.10/site-packages (from nbconvert<8.0.0,>=7.11.0->pipreqs) (0.7.1)\n",
      "Requirement already satisfied: jupyterlab-pygments in /Users/yunkaili/.pyenv/versions/3.10.12/lib/python3.10/site-packages (from nbconvert<8.0.0,>=7.11.0->pipreqs) (0.3.0)\n",
      "Requirement already satisfied: jupyter-core>=4.7 in /Users/yunkaili/.pyenv/versions/3.10.12/lib/python3.10/site-packages (from nbconvert<8.0.0,>=7.11.0->pipreqs) (5.7.2)\n",
      "Requirement already satisfied: bleach[css]!=5.0.0 in /Users/yunkaili/.pyenv/versions/3.10.12/lib/python3.10/site-packages (from nbconvert<8.0.0,>=7.11.0->pipreqs) (6.2.0)\n",
      "Requirement already satisfied: markupsafe>=2.0 in /Users/yunkaili/.pyenv/versions/3.10.12/lib/python3.10/site-packages (from nbconvert<8.0.0,>=7.11.0->pipreqs) (3.0.2)\n",
      "Requirement already satisfied: beautifulsoup4 in /Users/yunkaili/.pyenv/versions/3.10.12/lib/python3.10/site-packages (from nbconvert<8.0.0,>=7.11.0->pipreqs) (4.13.3)\n",
      "Requirement already satisfied: nbformat>=5.7 in /Users/yunkaili/.pyenv/versions/3.10.12/lib/python3.10/site-packages (from nbconvert<8.0.0,>=7.11.0->pipreqs) (5.10.4)\n",
      "Requirement already satisfied: pandocfilters>=1.4.1 in /Users/yunkaili/.pyenv/versions/3.10.12/lib/python3.10/site-packages (from nbconvert<8.0.0,>=7.11.0->pipreqs) (1.5.1)\n",
      "Requirement already satisfied: nbclient>=0.5.0 in /Users/yunkaili/.pyenv/versions/3.10.12/lib/python3.10/site-packages (from nbconvert<8.0.0,>=7.11.0->pipreqs) (0.10.2)\n",
      "Requirement already satisfied: packaging in /Users/yunkaili/.pyenv/versions/3.10.12/lib/python3.10/site-packages (from nbconvert<8.0.0,>=7.11.0->pipreqs) (24.2)\n",
      "Requirement already satisfied: jinja2>=3.0 in /Users/yunkaili/.pyenv/versions/3.10.12/lib/python3.10/site-packages (from nbconvert<8.0.0,>=7.11.0->pipreqs) (3.1.5)\n",
      "Requirement already satisfied: webencodings in /Users/yunkaili/.pyenv/versions/3.10.12/lib/python3.10/site-packages (from bleach[css]!=5.0.0->nbconvert<8.0.0,>=7.11.0->pipreqs) (0.5.1)\n",
      "Requirement already satisfied: tinycss2<1.5,>=1.1.0 in /Users/yunkaili/.pyenv/versions/3.10.12/lib/python3.10/site-packages (from bleach[css]!=5.0.0->nbconvert<8.0.0,>=7.11.0->pipreqs) (1.4.0)\n",
      "Requirement already satisfied: parso<0.9.0,>=0.8.4 in /Users/yunkaili/.pyenv/versions/3.10.12/lib/python3.10/site-packages (from jedi>=0.16->ipython==8.12.3->pipreqs) (0.8.4)\n",
      "Requirement already satisfied: platformdirs>=2.5 in /Users/yunkaili/.pyenv/versions/3.10.12/lib/python3.10/site-packages (from jupyter-core>=4.7->nbconvert<8.0.0,>=7.11.0->pipreqs) (4.3.6)\n",
      "Requirement already satisfied: typing-extensions in /Users/yunkaili/.pyenv/versions/3.10.12/lib/python3.10/site-packages (from mistune<4,>=2.0.3->nbconvert<8.0.0,>=7.11.0->pipreqs) (4.12.2)\n",
      "Requirement already satisfied: jupyter-client>=6.1.12 in /Users/yunkaili/.pyenv/versions/3.10.12/lib/python3.10/site-packages (from nbclient>=0.5.0->nbconvert<8.0.0,>=7.11.0->pipreqs) (8.6.3)\n",
      "Requirement already satisfied: jsonschema>=2.6 in /Users/yunkaili/.pyenv/versions/3.10.12/lib/python3.10/site-packages (from nbformat>=5.7->nbconvert<8.0.0,>=7.11.0->pipreqs) (4.23.0)\n",
      "Requirement already satisfied: fastjsonschema>=2.15 in /Users/yunkaili/.pyenv/versions/3.10.12/lib/python3.10/site-packages (from nbformat>=5.7->nbconvert<8.0.0,>=7.11.0->pipreqs) (2.21.1)\n",
      "Requirement already satisfied: ptyprocess>=0.5 in /Users/yunkaili/.pyenv/versions/3.10.12/lib/python3.10/site-packages (from pexpect>4.3->ipython==8.12.3->pipreqs) (0.7.0)\n",
      "Requirement already satisfied: wcwidth in /Users/yunkaili/.pyenv/versions/3.10.12/lib/python3.10/site-packages (from prompt-toolkit!=3.0.37,<3.1.0,>=3.0.30->ipython==8.12.3->pipreqs) (0.2.13)\n",
      "Requirement already satisfied: soupsieve>1.2 in /Users/yunkaili/.pyenv/versions/3.10.12/lib/python3.10/site-packages (from beautifulsoup4->nbconvert<8.0.0,>=7.11.0->pipreqs) (2.6)\n",
      "Requirement already satisfied: certifi>=2017.4.17 in /Users/yunkaili/.pyenv/versions/3.10.12/lib/python3.10/site-packages (from requests->yarg==0.1.9->pipreqs) (2025.1.31)\n",
      "Requirement already satisfied: idna<4,>=2.5 in /Users/yunkaili/.pyenv/versions/3.10.12/lib/python3.10/site-packages (from requests->yarg==0.1.9->pipreqs) (3.10)\n",
      "Requirement already satisfied: charset-normalizer<4,>=2 in /Users/yunkaili/.pyenv/versions/3.10.12/lib/python3.10/site-packages (from requests->yarg==0.1.9->pipreqs) (3.4.1)\n",
      "Requirement already satisfied: urllib3<3,>=1.21.1 in /Users/yunkaili/.pyenv/versions/3.10.12/lib/python3.10/site-packages (from requests->yarg==0.1.9->pipreqs) (1.26.20)\n",
      "Requirement already satisfied: pure-eval in /Users/yunkaili/.pyenv/versions/3.10.12/lib/python3.10/site-packages (from stack-data->ipython==8.12.3->pipreqs) (0.2.3)\n",
      "Requirement already satisfied: asttokens>=2.1.0 in /Users/yunkaili/.pyenv/versions/3.10.12/lib/python3.10/site-packages (from stack-data->ipython==8.12.3->pipreqs) (3.0.0)\n",
      "Requirement already satisfied: executing>=1.2.0 in /Users/yunkaili/.pyenv/versions/3.10.12/lib/python3.10/site-packages (from stack-data->ipython==8.12.3->pipreqs) (2.2.0)\n",
      "Requirement already satisfied: attrs>=22.2.0 in /Users/yunkaili/.pyenv/versions/3.10.12/lib/python3.10/site-packages (from jsonschema>=2.6->nbformat>=5.7->nbconvert<8.0.0,>=7.11.0->pipreqs) (25.2.0)\n",
      "Requirement already satisfied: rpds-py>=0.7.1 in /Users/yunkaili/.pyenv/versions/3.10.12/lib/python3.10/site-packages (from jsonschema>=2.6->nbformat>=5.7->nbconvert<8.0.0,>=7.11.0->pipreqs) (0.23.1)\n",
      "Requirement already satisfied: jsonschema-specifications>=2023.03.6 in /Users/yunkaili/.pyenv/versions/3.10.12/lib/python3.10/site-packages (from jsonschema>=2.6->nbformat>=5.7->nbconvert<8.0.0,>=7.11.0->pipreqs) (2024.10.1)\n",
      "Requirement already satisfied: referencing>=0.28.4 in /Users/yunkaili/.pyenv/versions/3.10.12/lib/python3.10/site-packages (from jsonschema>=2.6->nbformat>=5.7->nbconvert<8.0.0,>=7.11.0->pipreqs) (0.36.2)\n",
      "Requirement already satisfied: tornado>=6.2 in /Users/yunkaili/.pyenv/versions/3.10.12/lib/python3.10/site-packages (from jupyter-client>=6.1.12->nbclient>=0.5.0->nbconvert<8.0.0,>=7.11.0->pipreqs) (6.4.2)\n",
      "Requirement already satisfied: pyzmq>=23.0 in /Users/yunkaili/.pyenv/versions/3.10.12/lib/python3.10/site-packages (from jupyter-client>=6.1.12->nbclient>=0.5.0->nbconvert<8.0.0,>=7.11.0->pipreqs) (26.3.0)\n",
      "Requirement already satisfied: python-dateutil>=2.8.2 in /Users/yunkaili/.pyenv/versions/3.10.12/lib/python3.10/site-packages (from jupyter-client>=6.1.12->nbclient>=0.5.0->nbconvert<8.0.0,>=7.11.0->pipreqs) (2.9.0.post0)\n",
      "Requirement already satisfied: six>=1.5 in /Users/yunkaili/.pyenv/versions/3.10.12/lib/python3.10/site-packages (from python-dateutil>=2.8.2->jupyter-client>=6.1.12->nbclient>=0.5.0->nbconvert<8.0.0,>=7.11.0->pipreqs) (1.17.0)\n",
      "\n",
      "\u001b[1m[\u001b[0m\u001b[34;49mnotice\u001b[0m\u001b[1;39;49m]\u001b[0m\u001b[39;49m A new release of pip is available: \u001b[0m\u001b[31;49m23.0.1\u001b[0m\u001b[39;49m -> \u001b[0m\u001b[32;49m25.0.1\u001b[0m\n",
      "\u001b[1m[\u001b[0m\u001b[34;49mnotice\u001b[0m\u001b[1;39;49m]\u001b[0m\u001b[39;49m To update, run: \u001b[0m\u001b[32;49mpip install --upgrade pip\u001b[0m\n"
     ]
    }
   ],
   "source": [
    "!pip install pipreqs"
   ]
  },
  {
   "cell_type": "code",
   "execution_count": 10,
   "id": "7a699896-3989-40b8-964e-60538e82f878",
   "metadata": {
    "scrolled": true
   },
   "outputs": [
    {
     "name": "stdout",
     "output_type": "stream",
     "text": [
      "INFO: Not scanning for jupyter notebooks.\n",
      "Traceback (most recent call last):\n",
      "  File \"/Users/yunkaili/.pyenv/versions/3.10.12/bin/pipreqs\", line 8, in <module>\n",
      "    sys.exit(main())\n",
      "  File \"/Users/yunkaili/.pyenv/versions/3.10.12/lib/python3.10/site-packages/pipreqs/pipreqs.py\", line 609, in main\n",
      "    init(args)\n",
      "  File \"/Users/yunkaili/.pyenv/versions/3.10.12/lib/python3.10/site-packages/pipreqs/pipreqs.py\", line 599, in init\n",
      "    generate_requirements_file(path, imports, symbol)\n",
      "  File \"/Users/yunkaili/.pyenv/versions/3.10.12/lib/python3.10/site-packages/pipreqs/pipreqs.py\", line 209, in generate_requirements_file\n",
      "    with _open(path, \"w\") as out_file:\n",
      "  File \"/Users/yunkaili/.pyenv/versions/3.10.12/lib/python3.10/contextlib.py\", line 135, in __enter__\n",
      "    return next(self.gen)\n",
      "  File \"/Users/yunkaili/.pyenv/versions/3.10.12/lib/python3.10/site-packages/pipreqs/pipreqs.py\", line 91, in _open\n",
      "    file = open(filename, mode)\n",
      "FileNotFoundError: [Errno 2] No such file or directory: 'notebooks/requirements.txt'\n"
     ]
    }
   ],
   "source": [
    "!pipreqs notebooks/ --force"
   ]
  },
  {
   "cell_type": "code",
   "execution_count": 11,
   "id": "71a5af27-84ec-4e7c-9648-2b8ad8a678aa",
   "metadata": {},
   "outputs": [],
   "source": [
    "!pip freeze > all_packages.txt"
   ]
  },
  {
   "cell_type": "code",
   "execution_count": null,
   "id": "32c5d478-4b5d-4199-a745-0e8a8a1e0958",
   "metadata": {},
   "outputs": [],
   "source": []
  }
 ],
 "metadata": {
  "kernelspec": {
   "display_name": "Python (Twitter Notes)",
   "language": "python",
   "name": "twitter_notes_env"
  },
  "language_info": {
   "codemirror_mode": {
    "name": "ipython",
    "version": 3
   },
   "file_extension": ".py",
   "mimetype": "text/x-python",
   "name": "python",
   "nbconvert_exporter": "python",
   "pygments_lexer": "ipython3",
   "version": "3.10.12"
  }
 },
 "nbformat": 4,
 "nbformat_minor": 5
}
