{
 "cells": [
  {
   "cell_type": "code",
   "execution_count": 4,
   "id": "d22b4ae6-9f26-4ed5-9325-843906dc12c2",
   "metadata": {},
   "outputs": [],
   "source": [
    "import pandas as pd\n",
    "from pathlib import Path"
   ]
  },
  {
   "cell_type": "code",
   "execution_count": 11,
   "id": "6ce009fa-b492-454e-b894-ce99ca711c8b",
   "metadata": {},
   "outputs": [
    {
     "name": "stdout",
     "output_type": "stream",
     "text": [
      "nonmis_politics.xlsx: 1338 rows\n",
      "mislead_politics.xlsx: 8261 rows\n"
     ]
    }
   ],
   "source": [
    "base_path = Path(\"../data/KG\")\n",
    "nonmis_file = base_path / \"nonmis_politics.xlsx\"\n",
    "mis_file = base_path / \"mislead_politics.xlsx\"\n",
    "\n",
    "df_nonmis = pd.read_excel(nonmis_file)\n",
    "df_mis = pd.read_excel(mis_file)\n",
    "print(f\"{nonmis_file.name}: {len(df_nonmis)} rows\")\n",
    "print(f\"{mis_file.name}: {len(df_mis)} rows\")"
   ]
  },
  {
   "cell_type": "markdown",
   "id": "1d16f373-b399-4fa4-af95-60d15fd78efe",
   "metadata": {},
   "source": [
    "# query numbers\n",
    "nonmis: 7\n",
    "mislead: 43"
   ]
  },
  {
   "cell_type": "code",
   "execution_count": 18,
   "id": "79648456-1387-419f-8487-6799c285ac82",
   "metadata": {},
   "outputs": [
    {
     "name": "stdout",
     "output_type": "stream",
     "text": [
      "      ID                                           Document   label\n",
      "0   9395               NNN, what are you even talking about  nonmis\n",
      "1  11268  Nnn - a reduction in draft tax means pints are...  nonmis\n",
      "2   4599  the text on the picture is clearly a response,...  nonmis\n",
      "3   1458  The post is correct. After the 2008 elections ...  nonmis\n",
      "4    562  NNN. The word ‚Äòneglect‚Äô means failure to c...  nonmis\n"
     ]
    }
   ],
   "source": [
    "RANDOM_SEED = 27\n",
    "## part 1 for seed 42\n",
    "# # random sampling 14 dp from df_nonmis \n",
    "sample_nonmis = df_nonmis.sample(n=7*10, random_state=RANDOM_SEED)[[\"ID\", \"Document\"]]\n",
    "sample_nonmis = sample_nonmis.rename(columns={\"ID\": \"ID\"})\n",
    "\n",
    "# random sampling 86 dp from df_mis \n",
    "sample_mis = df_mis.sample(n=43*10, random_state=RANDOM_SEED)[[\"ID\", \"Document\"]]\n",
    "sample_mis = sample_mis.rename(columns={\"ID\": \"ID\"})\n",
    "\n",
    "# merge to 1 dataframe\n",
    "sample_nonmis[\"label\"] = \"nonmis\"\n",
    "sample_mis[\"label\"] = \"mislead\"\n",
    "sample_all = pd.concat([sample_nonmis, sample_mis], ignore_index=True)\n",
    "\n",
    "\n",
    "print(sample_all.head())\n",
    "\n",
    "#export\n",
    "sample_all.to_csv(\"sampled_query_candidates.csv\", index=False)"
   ]
  },
  {
   "cell_type": "code",
   "execution_count": 17,
   "id": "f56cc4f0-8925-47c1-83fb-cd1f48ae1255",
   "metadata": {},
   "outputs": [
    {
     "name": "stdout",
     "output_type": "stream",
     "text": [
      "筛选完成！文件已保存为 nonmis_filtered.csv 和 mis_filtered.csv\n"
     ]
    }
   ],
   "source": [
    "# 定义筛选条件\n",
    "def contains_donald_trump(text):\n",
    "    if isinstance(text, str):\n",
    "        text_lower = text.lower()\n",
    "        return 'donald' in text_lower or 'trump' in text_lower or 'donald trump' in text_lower\n",
    "    return False\n",
    "\n",
    "# 对每个DataFrame进行筛选\n",
    "df_nonmis_filtered = df_nonmis[df_nonmis['Document'].apply(contains_donald_trump)]\n",
    "df_mis_filtered = df_mis[df_mis['Document'].apply(contains_donald_trump)]\n",
    "\n",
    "# 将结果保存成新的CSV文件\n",
    "df_nonmis_filtered.to_csv('nonmis_filtered.csv', index=False)\n",
    "df_mis_filtered.to_csv('mis_filtered.csv', index=False)\n",
    "\n",
    "print(\"筛选完成！文件已保存为 nonmis_filtered.csv 和 mis_filtered.csv\")"
   ]
  },
  {
   "cell_type": "code",
   "execution_count": null,
   "id": "a9522fc8-1ac0-4ce2-8233-6dbe97be16ee",
   "metadata": {},
   "outputs": [],
   "source": [
    "print(f\"{df_nonmis_filtered.name}: {len(df_nonmis_filtered)} rows\")\n",
    "print(f\"{mis_file.name}: {len(df_mis)} rows\")"
   ]
  }
 ],
 "metadata": {
  "kernelspec": {
   "display_name": "Python 3 (ipykernel)",
   "language": "python",
   "name": "python3"
  },
  "language_info": {
   "codemirror_mode": {
    "name": "ipython",
    "version": 3
   },
   "file_extension": ".py",
   "mimetype": "text/x-python",
   "name": "python",
   "nbconvert_exporter": "python",
   "pygments_lexer": "ipython3",
   "version": "3.12.3"
  }
 },
 "nbformat": 4,
 "nbformat_minor": 5
}
